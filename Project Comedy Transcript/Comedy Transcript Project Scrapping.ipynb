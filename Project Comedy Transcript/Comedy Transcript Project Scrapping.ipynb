{
 "cells": [
  {
   "cell_type": "code",
   "execution_count": 1,
   "metadata": {},
   "outputs": [],
   "source": [
    "import requests\n",
    "from bs4 import BeautifulSoup as bs\n",
    "import pickle"
   ]
  },
  {
   "cell_type": "code",
   "execution_count": 2,
   "metadata": {},
   "outputs": [],
   "source": [
    "def url_to_transcipt(url):\n",
    "    page = requests.get(url).text\n",
    "    soup = bs(page)\n",
    "    text = soup.find(\"div\", attrs = {\"class\": \"post-content\"})\n",
    "    content = text.get_text()\n",
    "    return content"
   ]
  },
  {
   "cell_type": "code",
   "execution_count": 3,
   "metadata": {},
   "outputs": [],
   "source": [
    "urls =[\"https://scrapsfromtheloft.com/2020/08/22/rob-schneider-asian-momma-mexican-kids-transcript/\",\n",
    "       \"https://scrapsfromtheloft.com/2020/08/22/sam-jay-3-in-the-morning-transcript/\",\n",
    "       \"https://scrapsfromtheloft.com/2020/07/26/jack-whitehall-im-only-joking-transcript/\", \n",
    "       \"https://scrapsfromtheloft.com/2020/07/19/urzila-carlson-overqualified-loser-transcript/\", \n",
    "       \"https://scrapsfromtheloft.com/2020/07/14/george-lopez-well-do-it-for-half-transcript/\", \n",
    "       \"https://scrapsfromtheloft.com/2020/07/08/jim-jefferies-intolerant-transcript/\", \n",
    "       \"https://scrapsfromtheloft.com/2020/07/05/bill-hicks-censored-david-letterman-transcript/\", \n",
    "       \"https://scrapsfromtheloft.com/2020/06/25/eric-andre-legalize-everything-transcript/\", \n",
    "       \"https://scrapsfromtheloft.com/2020/06/22/roy-wood-jr-father-figure-transcript/\", \n",
    "       \"https://scrapsfromtheloft.com/2020/06/02/chris-gethard-career-suicide-transcript/\",\n",
    "       \"https://scrapsfromtheloft.com/2020/06/13/mark-normand-dont-be-yourself-transcript/\", \n",
    "       \"https://scrapsfromtheloft.com/2020/06/01/ramy-youssef-feelings-transcript/\"]\n",
    "\n",
    "comedians = [\"Rob Schneider\",\"Sam Jay\",\"Jack Whitehall\",\"Urzilla Carlson\",\"George Lopez\",\"Jim Jeffferies\",\n",
    "            \"Bill Hicks\", \"Eric Andre\", \"Roy Wood\", \"Chris Gethard\", \"Mark Normand\", \"Ramy Youssef\"]"
   ]
  },
  {
   "cell_type": "code",
   "execution_count": 4,
   "metadata": {},
   "outputs": [],
   "source": [
    "transcripts = [url_to_transcipt(u) for u in urls]"
   ]
  },
  {
   "cell_type": "code",
   "execution_count": 5,
   "metadata": {},
   "outputs": [
    {
     "name": "stderr",
     "output_type": "stream",
     "text": [
      "A subdirectory or file transcripts already exists.\n"
     ]
    }
   ],
   "source": [
    "!mkdir transcripts"
   ]
  },
  {
   "cell_type": "code",
   "execution_count": 9,
   "metadata": {},
   "outputs": [],
   "source": [
    "for i,c in enumerate(comedians):\n",
    "    with open (\"transcripts/\" + c + \".txt\", \"wb\") as file:\n",
    "        pickle.dump(transcripts[i], file)"
   ]
  },
  {
   "cell_type": "code",
   "execution_count": null,
   "metadata": {},
   "outputs": [],
   "source": []
  }
 ],
 "metadata": {
  "kernelspec": {
   "display_name": "Python 3",
   "language": "python",
   "name": "python3"
  },
  "language_info": {
   "codemirror_mode": {
    "name": "ipython",
    "version": 3
   },
   "file_extension": ".py",
   "mimetype": "text/x-python",
   "name": "python",
   "nbconvert_exporter": "python",
   "pygments_lexer": "ipython3",
   "version": "3.7.4"
  }
 },
 "nbformat": 4,
 "nbformat_minor": 2
}
